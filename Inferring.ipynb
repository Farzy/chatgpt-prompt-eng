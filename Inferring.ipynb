{
 "cells": [
  {
   "cell_type": "markdown",
   "source": [
    "# Inferring\n",
    "In this lesson, you will infer sentiment and topics from product reviews and news articles.\n",
    "\n",
    "## Setup"
   ],
   "metadata": {
    "collapsed": false
   }
  },
  {
   "cell_type": "code",
   "execution_count": 20,
   "outputs": [],
   "source": [
    "import openai\n",
    "import os\n",
    "\n",
    "from dotenv import load_dotenv, find_dotenv\n",
    "_ = load_dotenv(find_dotenv()) # read local .env file\n",
    "\n",
    "openai.organization = os.getenv('OPENAI_ORGANIZATION')\n",
    "openai.api_key  = os.getenv('OPENAI_API_KEY')"
   ],
   "metadata": {
    "collapsed": false,
    "ExecuteTime": {
     "end_time": "2023-05-11T08:58:31.408826Z",
     "start_time": "2023-05-11T08:58:31.398463Z"
    }
   }
  },
  {
   "cell_type": "code",
   "execution_count": 2,
   "outputs": [],
   "source": [
    "def get_completion(prompt, model=\"gpt-3.5-turbo\"):\n",
    "    messages = [{\"role\": \"user\", \"content\": prompt}]\n",
    "    response = openai.ChatCompletion.create(\n",
    "        model=model,\n",
    "        messages=messages,\n",
    "        temperature=0, # this is the degree of randomness of the model's output\n",
    "    )\n",
    "    return response.choices[0].message[\"content\"]"
   ],
   "metadata": {
    "collapsed": false,
    "ExecuteTime": {
     "end_time": "2023-05-11T08:12:31.645695Z",
     "start_time": "2023-05-11T08:12:31.624839Z"
    }
   }
  },
  {
   "cell_type": "markdown",
   "source": [
    "## Product review text"
   ],
   "metadata": {
    "collapsed": false
   }
  },
  {
   "cell_type": "code",
   "execution_count": 4,
   "outputs": [],
   "source": [
    "lamp_review = \"\"\"\n",
    "Needed a nice lamp for my bedroom, and this one had\n",
    "additional storage and not too high of a price point.\n",
    "Got it fast.  The string to our lamp broke during the\n",
    "transit and the company happily sent over a new one.\n",
    "Came within a few days as well. It was easy to put\n",
    "together.  I had a missing part, so I contacted their\n",
    "support and they very quickly got me the missing piece!\n",
    "Lumina seems to me to be a great company that cares\n",
    "about their customers and products!!\n",
    "\"\"\""
   ],
   "metadata": {
    "collapsed": false,
    "ExecuteTime": {
     "end_time": "2023-05-11T08:14:48.368796Z",
     "start_time": "2023-05-11T08:14:48.353750Z"
    }
   }
  },
  {
   "cell_type": "markdown",
   "source": [
    "## Sentiment (positive/negative)"
   ],
   "metadata": {
    "collapsed": false
   }
  },
  {
   "cell_type": "code",
   "execution_count": 5,
   "outputs": [
    {
     "name": "stdout",
     "output_type": "stream",
     "text": [
      "The sentiment of the product review is positive.\n"
     ]
    }
   ],
   "source": [
    "prompt = f\"\"\"\n",
    "What is the sentiment of the following product review,\n",
    "which is delimited with triple backticks?\n",
    "\n",
    "Review text: '''{lamp_review}'''\n",
    "\"\"\"\n",
    "response = get_completion(prompt)\n",
    "print(response)"
   ],
   "metadata": {
    "collapsed": false,
    "ExecuteTime": {
     "end_time": "2023-05-11T08:14:53.960298Z",
     "start_time": "2023-05-11T08:14:52.463860Z"
    }
   }
  },
  {
   "cell_type": "markdown",
   "source": [],
   "metadata": {
    "collapsed": false
   }
  },
  {
   "cell_type": "code",
   "execution_count": 6,
   "outputs": [
    {
     "name": "stdout",
     "output_type": "stream",
     "text": [
      "positive\n"
     ]
    }
   ],
   "source": [
    "prompt = f\"\"\"\n",
    "What is the sentiment of the following product review,\n",
    "which is delimited with triple backticks?\n",
    "\n",
    "Give your answer as a single word, either \"positive\"\n",
    "or \"negative\".\n",
    "\n",
    "Review text: '''{lamp_review}'''\n",
    "\"\"\"\n",
    "response = get_completion(prompt)\n",
    "print(response)"
   ],
   "metadata": {
    "collapsed": false
   }
  },
  {
   "cell_type": "markdown",
   "source": [
    "### Test mixed sentiment"
   ],
   "metadata": {
    "collapsed": false
   }
  },
  {
   "cell_type": "code",
   "execution_count": 8,
   "outputs": [
    {
     "name": "stdout",
     "output_type": "stream",
     "text": [
      "Positive\n"
     ]
    }
   ],
   "source": [
    "prompt = f\"\"\"\n",
    "What is the sentiment of the following product review,\n",
    "which is delimited with triple backticks?\n",
    "\n",
    "Give your answer as a single word, either \"positive\", \"mixed\"\n",
    "or \"negative\".\n",
    "\n",
    "Review text: '''{lamp_review}'''\n",
    "\"\"\"\n",
    "response = get_completion(prompt)\n",
    "print(response)"
   ],
   "metadata": {
    "collapsed": false,
    "ExecuteTime": {
     "end_time": "2023-05-11T08:18:43.282134Z",
     "start_time": "2023-05-11T08:18:42.521939Z"
    }
   }
  },
  {
   "cell_type": "markdown",
   "source": [
    "## Identify types of emotions"
   ],
   "metadata": {
    "collapsed": false
   }
  },
  {
   "cell_type": "code",
   "execution_count": 9,
   "outputs": [
    {
     "name": "stdout",
     "output_type": "stream",
     "text": [
      "satisfied, pleased, grateful, impressed, content\n"
     ]
    }
   ],
   "source": [
    "prompt = f\"\"\"\n",
    "Identify a list of emotions that the writer of the\n",
    "following review is expressing. Include no more than\n",
    "five items in the list. Format your answer as a list of\n",
    "lower-case words separated by commas.\n",
    "\n",
    "Review text: '''{lamp_review}'''\n",
    "\"\"\"\n",
    "response = get_completion(prompt)\n",
    "print(response)"
   ],
   "metadata": {
    "collapsed": false,
    "ExecuteTime": {
     "end_time": "2023-05-11T08:18:47.069951Z",
     "start_time": "2023-05-11T08:18:45.719917Z"
    }
   }
  },
  {
   "cell_type": "markdown",
   "source": [
    "## Identify anger"
   ],
   "metadata": {
    "collapsed": false
   }
  },
  {
   "cell_type": "code",
   "execution_count": 10,
   "outputs": [
    {
     "name": "stdout",
     "output_type": "stream",
     "text": [
      "No\n"
     ]
    }
   ],
   "source": [
    "prompt = f\"\"\"\n",
    "Is the writer of the following review expressing anger?\n",
    "The review is delimited with triple backticks.\n",
    "Give your answer as either yes or no.\n",
    "\n",
    "Review text: '''{lamp_review}'''\n",
    "\"\"\"\n",
    "response = get_completion(prompt)\n",
    "print(response)"
   ],
   "metadata": {
    "collapsed": false,
    "ExecuteTime": {
     "end_time": "2023-05-11T08:19:36.594885Z",
     "start_time": "2023-05-11T08:19:35.652163Z"
    }
   }
  },
  {
   "cell_type": "markdown",
   "source": [
    "## Extract information"
   ],
   "metadata": {
    "collapsed": false
   }
  },
  {
   "cell_type": "code",
   "execution_count": 11,
   "outputs": [
    {
     "name": "stdout",
     "output_type": "stream",
     "text": [
      "Improvement suggestion: None. The review does not suggest any improvements for the company.\n"
     ]
    }
   ],
   "source": [
    "prompt = f\"\"\"\n",
    "If the writer of the following review suggests improvement that\n",
    "the company provide, extract it and show it.\n",
    "The review is delimited with triple backticks.\n",
    "\n",
    "Review text: ```{lamp_review}```\n",
    "\"\"\"\n",
    "\n",
    "response = get_completion(prompt)\n",
    "print(response)"
   ],
   "metadata": {
    "collapsed": false,
    "ExecuteTime": {
     "end_time": "2023-05-11T08:22:45.497146Z",
     "start_time": "2023-05-11T08:22:43.167416Z"
    }
   }
  },
  {
   "cell_type": "code",
   "execution_count": 13,
   "outputs": [
    {
     "name": "stdout",
     "output_type": "stream",
     "text": [
      "The customer contacted support because they had a missing part when putting the lamp together.\n"
     ]
    }
   ],
   "source": [
    "prompt = f\"\"\"\n",
    "In the following review, why did the customer contact support? Please provide details.\n",
    "The review is delimited with triple backticks.\n",
    "\n",
    "Review text: ```{lamp_review}```\n",
    "\"\"\"\n",
    "\n",
    "response = get_completion(prompt)\n",
    "print(response)"
   ],
   "metadata": {
    "collapsed": false,
    "ExecuteTime": {
     "end_time": "2023-05-11T08:24:38.162177Z",
     "start_time": "2023-05-11T08:24:36.237421Z"
    }
   }
  },
  {
   "cell_type": "code",
   "execution_count": 14,
   "outputs": [
    {
     "name": "stdout",
     "output_type": "stream",
     "text": [
      "{\n",
      "  \"Item\": \"lamp\",\n",
      "  \"Brand\": \"Lumina\"\n",
      "}\n"
     ]
    }
   ],
   "source": [
    "## Extract product and company name from customer reviews\n",
    "\n",
    "prompt = f\"\"\"\n",
    "Identify the following items from the review text:\n",
    "- Item purchased by reviewer\n",
    "- Company that made the item\n",
    "\n",
    "The review is delimited with triple backticks.\n",
    "Format your response as a JSON object with\n",
    "\"Item\" and \"Brand\" as the keys.\n",
    "If the information isn't present, use \"unknown\"\n",
    "as the value.\n",
    "Make your response as short as possible.\n",
    "\n",
    "Review text: '''{lamp_review}'''\n",
    "\"\"\"\n",
    "response = get_completion(prompt)\n",
    "print(response)"
   ],
   "metadata": {
    "collapsed": false,
    "ExecuteTime": {
     "end_time": "2023-05-11T08:28:14.208094Z",
     "start_time": "2023-05-11T08:28:11.839829Z"
    }
   }
  },
  {
   "cell_type": "markdown",
   "source": [
    "## Doing multiple tasks at once"
   ],
   "metadata": {
    "collapsed": false
   }
  },
  {
   "cell_type": "code",
   "execution_count": 15,
   "outputs": [
    {
     "name": "stdout",
     "output_type": "stream",
     "text": [
      "{\n",
      "    \"Sentiment\": \"positive\",\n",
      "    \"Anger\": false,\n",
      "    \"Item\": \"lamp with additional storage\",\n",
      "    \"Brand\": \"Lumina\"\n",
      "}\n"
     ]
    }
   ],
   "source": [
    "prompt = f\"\"\"\n",
    "Identify the following items from the review text:\n",
    "- Sentiment (positive or negative)\n",
    "- Is the reviewer expressing anger? (true or false)\n",
    "- Item purchased by reviewer\n",
    "- Company that made the item\n",
    "\n",
    "The review is delimited with triple backticks.\n",
    "Format your response as a JSON object with\n",
    "\"Sentiment\", \"Anger\", \"Item\" and \"Brand\" as the keys.\n",
    "If the information isn't present, use \"unknown\"\n",
    "as the value.\n",
    "Make your response as short as possible.\n",
    "Format the Anger value as a boolean.\n",
    "\n",
    "Review text: '''{lamp_review}'''\n",
    "\"\"\"\n",
    "response = get_completion(prompt)\n",
    "print(response)"
   ],
   "metadata": {
    "collapsed": false,
    "ExecuteTime": {
     "end_time": "2023-05-11T08:29:43.441124Z",
     "start_time": "2023-05-11T08:29:40.080214Z"
    }
   }
  },
  {
   "cell_type": "code",
   "execution_count": 16,
   "outputs": [
    {
     "name": "stdout",
     "output_type": "stream",
     "text": [
      "```yaml\n",
      "Sentiment: positive\n",
      "Anger: false\n",
      "Item: lamp with additional storage\n",
      "Brand: Lumina\n",
      "```\n"
     ]
    }
   ],
   "source": [
    "prompt = f\"\"\"\n",
    "Identify the following items from the review text:\n",
    "- Sentiment (positive or negative)\n",
    "- Is the reviewer expressing anger? (true or false)\n",
    "- Item purchased by reviewer\n",
    "- Company that made the item\n",
    "\n",
    "The review is delimited with triple backticks.\n",
    "Format your response as a YAML object with\n",
    "\"Sentiment\", \"Anger\", \"Item\" and \"Brand\" as the keys.\n",
    "If the information isn't present, use \"unknown\"\n",
    "as the value.\n",
    "Make your response as short as possible.\n",
    "Format the Anger value as a boolean.\n",
    "\n",
    "Review text: '''{lamp_review}'''\n",
    "\"\"\"\n",
    "response = get_completion(prompt)\n",
    "print(response)"
   ],
   "metadata": {
    "collapsed": false,
    "ExecuteTime": {
     "end_time": "2023-05-11T08:40:24.334261Z",
     "start_time": "2023-05-11T08:40:21.751872Z"
    }
   }
  },
  {
   "cell_type": "code",
   "execution_count": 0,
   "outputs": [],
   "source": [
    "amazon_review = \"\"\"\n",
    "Amateurs de cafés sans être de fins connaisseurs mon conjoint et moi sommes des consommateurs réguliers de Starbucks comme de café Nespresso depuis plusieurs années.\n",
    "Alors une fois le partenaria lancé entre les deux marques on ne pouvait que tester !\n",
    "\n",
    "Le positif de cette expérience :\n",
    "- Avec une machine Inissia Nespresso les dosettes sont parfaitement adaptées.\n",
    "- Le goût : on valide sans s'extasier. C'est assez personnel les goûts de chacun mais si on apprécie les arômes de ces dosettes assez corsées (force 6 à 11 si vous voulez un repère Nespresso) on n'a pas vraiment senti les \"note de noisette\" ou \"note de caramel\" mises en avant sur les paquets.\n",
    "En revanche le \"Starbucks Blonde\" (jaune) a été pour moi un vrai coup de cœur. Testé en espresso, lungo et même avec une pointe de lait c'est un délice ! Ajoutez une mousse de lait et vous êtes chez Starbucks !\n",
    "Pour mon conjoint, c'est le house Blend (maron clair) qui a été le plus apprécié. Vendu avec \"une note de caramel\" qu'il n'a pas sentie, il a particulièrement apprécié la douceur de la gorgée puis l'arrière goût plus fort qui arrive après.\n",
    "Bon chacun ses préférences et ses goûts mais tout cela pour dire que ça été une bonne surprise finalement.\n",
    "- l’échantillonnage : 8 sortes de cafés différents dans une offre découverte intéressante et variée. Attention toutefois à ceux qui aiment les cafés pas trop forts car ils sont classés force 6 à 11. Je nuancerai tout de même cette remarque sur la force des cafés car étant habituée aux cafés Cosi et Volluto (force 4) de Nespresso j'ai vraiment apprécié le Starbucks Blonde force 6 qui n'était pas si fort que ça.\n",
    "Il y en a donc pour tous les goûts selon moi dans ce pack et les dosettes de décaféiné sont un plus (en particulier quand on a de la visite).\n",
    "Le rapport qualité prix est bon 80 dosettes pour 26€ c'est moins que pour les capsules standard.\n",
    "\n",
    "On aime moins :\n",
    "- Comme pour les dosettes Nespresso le gros point noir c'est l’aluminium ! Oui les dosettes se recyclent, oui c'est le matériau qui conserve le mieux l'arôme du café, mais ça reste mauvais pour l'environnement comme pour la santé. Et oui il existe des marques qui proposent des dosettes dans d'autres matériaux mais ces capsules n'étant pas parfaitement adaptées à la machine elles réduisent sa durée de vie et la qualité du café n'est pas la même. A quand les dosettes Nespresso écolo ? :)\n",
    "\n",
    "Malgré cela, on craque parce que le café... c'est notre point faible !\n",
    "Ces dosettes ? On les recommande à tous les curieux, les amateurs de café Starbucks, Nespresso ou juste de café un peu corsé. On a aimé accompagner d'une noisette de lait, et un petit biscuit (spéculoos) ou d'un carré de chocolat noir. Elles suscitent la curiosité des proches quand on reçoit, et ont été appréciées par ceux qui les ont goûtées autour de nous.\n",
    "\n",
    "Reçu rapidement (prime) et en bon état, rien à redire sur la livraison. On recommande !!\n",
    "\"\"\""
   ],
   "metadata": {
    "collapsed": false
   }
  },
  {
   "cell_type": "code",
   "execution_count": 19,
   "outputs": [
    {
     "name": "stdout",
     "output_type": "stream",
     "text": [
      "- \"mon conjoint et moi sommes des consommateurs réguliers de Starbucks comme de café Nespresso\" : il manque l'article devant \"café Nespresso\", il faudrait écrire \"du café Nespresso\".\n",
      "- \"Alors une fois le partenaria lancé\" : il manque une lettre, il faudrait écrire \"partenariat\".\n",
      "- \"on valide sans s'extasier\" : il manque l'article devant \"on\", il faudrait écrire \"nous validons\".\n",
      "- \"si on apprécie les arômes de ces dosettes assez corsées\" : il manque l'article devant \"si\", il faudrait écrire \"si l'on apprécie\".\n",
      "- \"on n'a pas vraiment senti les 'note de noisette' ou 'note de caramel'\" : il manque l'article devant \"note\", il faudrait écrire \"les notes de noisette\" et \"les notes de caramel\".\n",
      "- \"c'est le house Blend (maron clair)\" : il manque une lettre, il faudrait écrire \"le House Blend (marron clair)\".\n",
      "- \"Bon chacun ses préférences et ses goûts\" : il manque l'article devant \"chacun\", il faudrait écrire \"Eh bien, chacun a ses préférences et ses goûts\".\n",
      "- \"ça été une bonne surprise\" : il y a une faute de conjugaison, il faudrait écrire \"ça a été une bonne surprise\".\n",
      "- \"l’échantillonnage\" : il manque l'article devant \"échantillonnage\", il faudrait écrire \"l'échantillonnage\".\n",
      "- \"Je nuancerai tout de même cette remarque sur la force des cafés\" : il manque l'article devant \"remarque\", il faudrait écrire \"Je nuancerai tout de même cette remarque sur la force des cafés\".\n",
      "- \"Il y en a donc pour tous les goûts selon moi dans ce pack\" : il manque l'article devant \"tous les goûts\", il faudrait écrire \"Il y en a donc pour tous les goûts selon moi dans ce pack\".\n",
      "- \"les dosettes de décaféiné\" : il manque l'article devant \"décaféiné\", il faudrait écrire \"les dosettes de décaféiné\".\n",
      "- \"c'est moins que pour les capsules standard\" : il manque l'article devant \"capsules\", il faudrait écrire \"les capsules standard\".\n",
      "- \"Comme pour les dosettes Nespresso le gros point noir c'est l’aluminium !\" : il manque une virgule après \"Nespresso\", il faudrait écrire \"Comme pour les dosettes Nespresso, le gros point noir c'est l’aluminium !\".\n",
      "- \"mais ça reste mauvais pour l'environnement comme pour la santé\" : il manque l'article devant \"environnement\", il faudrait écrire \"mais cela reste mauvais pour l'environnement comme pour la santé\".\n",
      "- \"Et oui il existe des marques qui proposent des dosettes dans d'autres matériaux\" : il manque une majuscule à \"et\", il faudrait écrire \"Et oui, il existe des marques qui proposent des dosettes dans d'autres matériaux\".\n",
      "- \"elles réduisent sa durée de vie\" : il manque l'article devant \"durée de vie\", il faudrait écrire \"réduisent la durée de vie\".\n",
      "- \"On a aimé accompagner d'une noisette de lait\" : il manque l'article devant \"noisette\", il faudrait écrire \"On a aimé l'accompagner d'une noisette de lait\".\n",
      "- \"Elles suscitent la curiosité des proches quand on reçoit\" : il manque l'article devant \"curiosité\", il faudrait écrire \"Elles suscitent la curiosité des proches quand on les reçoit\".\n"
     ]
    }
   ],
   "source": [
    "prompt = f\"\"\"\n",
    "Quelles sont les fautes de français dans la revue de produit suivante?\n",
    "\n",
    "La revue est délimitée par des triples apostrophes.\n",
    "\n",
    "Revue : '''{amazon_review}'''\n",
    "\"\"\"\n",
    "\n",
    "response = get_completion(prompt)\n",
    "print(response)"
   ],
   "metadata": {
    "collapsed": false,
    "ExecuteTime": {
     "end_time": "2023-05-11T08:47:53.627252Z",
     "start_time": "2023-05-11T08:46:42.509787Z"
    }
   }
  },
  {
   "cell_type": "code",
   "execution_count": 25,
   "outputs": [
    {
     "name": "stdout",
     "output_type": "stream",
     "text": [
      "{\n",
      "  \"Sentiment\": \"positif\",\n",
      "  \"Colère\": false,\n",
      "  \"Article\": \"dosettes de café Starbucks pour machine Nespresso\",\n",
      "  \"Prix\": \"26€ pour 80 dosettes\",\n",
      "  \"Marque\": \"Starbucks et Nespresso\"\n",
      "}\n"
     ]
    }
   ],
   "source": [
    "prompt = f\"\"\"\n",
    "Identifiez les éléments suivants dans le texte de la revue :\n",
    "- Sentiment (positif ou négatif)\n",
    "- L'auteur du commentaire exprime-t-il de la colère ? (vrai ou faux)\n",
    "- Article acheté par l'auteur de l'évaluation\n",
    "- Prix de l'article\n",
    "- Entreprise qui a fabriqué l'article\n",
    "\n",
    "L'avis est délimité par des triples apostrophes.\n",
    "Formulez votre réponse sous la forme d'un objet JSON contenant les éléments suivants\n",
    "\"Sentiment\", \"Colère\", \"Article\", \"Prix\" et \"Marque\" comme clés.\n",
    "Si l'information n'est pas présente, utilisez \"inconnu\"\n",
    "comme valeur.\n",
    "Faites en sorte que votre réponse soit aussi courte que possible.\n",
    "Formulez la valeur \"Colère\" comme une valeur booléenne.\n",
    "\n",
    "Texte de la critique : '''{amazon_review}'''\n",
    "\"\"\"\n",
    "\n",
    "response = get_completion(prompt)\n",
    "print(response)"
   ],
   "metadata": {
    "collapsed": false,
    "ExecuteTime": {
     "end_time": "2023-05-11T12:09:50.653256Z",
     "start_time": "2023-05-11T12:09:45.785153Z"
    }
   }
  },
  {
   "cell_type": "markdown",
   "source": [
    "## Inferring topics"
   ],
   "metadata": {
    "collapsed": false
   }
  },
  {
   "cell_type": "code",
   "execution_count": 27,
   "outputs": [],
   "source": [
    "story = \"\"\"\n",
    "In a recent survey conducted by the government,\n",
    "public sector employees were asked to rate their level\n",
    "of satisfaction with the department they work at.\n",
    "The results revealed that NASA was the most popular\n",
    "department with a satisfaction rating of 95%.\n",
    "\n",
    "One NASA employee, John Smith, commented on the findings,\n",
    "stating, \"I'm not surprised that NASA came out on top.\n",
    "It's a great place to work with amazing people and\n",
    "incredible opportunities. I'm proud to be a part of\n",
    "such an innovative organization.\"\n",
    "\n",
    "The results were also welcomed by NASA's management team,\n",
    "with Director Tom Johnson stating, \"We are thrilled to\n",
    "hear that our employees are satisfied with their work at NASA.\n",
    "We have a talented and dedicated team who work tirelessly\n",
    "to achieve our goals, and it's fantastic to see that their\n",
    "hard work is paying off.\"\n",
    "\n",
    "The survey also revealed that the\n",
    "Social Security Administration had the lowest satisfaction\n",
    "rating, with only 45% of employees indicating they were\n",
    "satisfied with their job. The government has pledged to\n",
    "address the concerns raised by employees in the survey and\n",
    "work towards improving job satisfaction across all departments.\n",
    "\"\"\""
   ],
   "metadata": {
    "collapsed": false,
    "ExecuteTime": {
     "end_time": "2023-05-11T12:12:18.946377Z",
     "start_time": "2023-05-11T12:12:18.936313Z"
    }
   }
  },
  {
   "cell_type": "markdown",
   "source": [
    "## Infer 5 topics"
   ],
   "metadata": {
    "collapsed": false
   }
  },
  {
   "cell_type": "code",
   "execution_count": 28,
   "outputs": [
    {
     "name": "stdout",
     "output_type": "stream",
     "text": [
      "government survey, job satisfaction, NASA, Social Security Administration, employee satisfaction\n"
     ]
    }
   ],
   "source": [
    "prompt = f\"\"\"\n",
    "Determine five topics that are being discussed in the\n",
    "following text, which is delimited by triple backticks.\n",
    "\n",
    "Make each item one or two words long.\n",
    "\n",
    "Format your response as a list of items separated by commas.\n",
    "\n",
    "Text sample: '''{story}'''\n",
    "\"\"\"\n",
    "response = get_completion(prompt)\n",
    "print(response)"
   ],
   "metadata": {
    "collapsed": false,
    "ExecuteTime": {
     "end_time": "2023-05-11T12:12:23.151691Z",
     "start_time": "2023-05-11T12:12:21.003321Z"
    }
   }
  },
  {
   "cell_type": "code",
   "execution_count": 29,
   "outputs": [
    {
     "data": {
      "text/plain": "['government survey',\n 'job satisfaction',\n 'NASA',\n 'Social Security Administration',\n 'employee satisfaction']"
     },
     "execution_count": 29,
     "metadata": {},
     "output_type": "execute_result"
    }
   ],
   "source": [
    "response.split(sep=', ')"
   ],
   "metadata": {
    "collapsed": false,
    "ExecuteTime": {
     "end_time": "2023-05-11T12:12:28.004683Z",
     "start_time": "2023-05-11T12:12:27.987323Z"
    }
   }
  },
  {
   "cell_type": "code",
   "execution_count": 30,
   "outputs": [],
   "source": [
    "topic_list = [\n",
    "    \"nasa\", \"local government\", \"engineering\",\n",
    "    \"employee satisfaction\", \"federal government\"\n",
    "]"
   ],
   "metadata": {
    "collapsed": false,
    "ExecuteTime": {
     "end_time": "2023-05-11T12:14:50.566817Z",
     "start_time": "2023-05-11T12:14:50.546323Z"
    }
   }
  },
  {
   "cell_type": "markdown",
   "source": [
    "## Make a news alert for certain topics"
   ],
   "metadata": {
    "collapsed": false
   }
  },
  {
   "cell_type": "code",
   "execution_count": 31,
   "outputs": [
    {
     "name": "stdout",
     "output_type": "stream",
     "text": [
      "nasa: 1\n",
      "local government: 0\n",
      "engineering: 0\n",
      "employee satisfaction: 1\n",
      "federal government: 1\n"
     ]
    }
   ],
   "source": [
    "prompt = f\"\"\"\n",
    "Determine whether each item in the following list of\n",
    "topics is a topic in the text below, which\n",
    "is delimited with triple backticks.\n",
    "\n",
    "Give your answer as list with 0 or 1 for each topic.\n",
    "\n",
    "List of topics: {\", \".join(topic_list)}\n",
    "\n",
    "Text sample: '''{story}'''\n",
    "\"\"\"\n",
    "response = get_completion(prompt)\n",
    "print(response)"
   ],
   "metadata": {
    "collapsed": false,
    "ExecuteTime": {
     "end_time": "2023-05-11T12:14:54.822330Z",
     "start_time": "2023-05-11T12:14:52.019858Z"
    }
   }
  },
  {
   "cell_type": "code",
   "execution_count": 32,
   "outputs": [
    {
     "name": "stdout",
     "output_type": "stream",
     "text": [
      "ALERT: New NASA story!\n"
     ]
    }
   ],
   "source": [
    "topic_dict = {i.split(': ')[0]: int(i.split(': ')[1]) for i in response.split(sep='\\n')}\n",
    "if topic_dict['nasa'] == 1:\n",
    "    print(\"ALERT: New NASA story!\")"
   ],
   "metadata": {
    "collapsed": false,
    "ExecuteTime": {
     "end_time": "2023-05-11T12:17:04.357069Z",
     "start_time": "2023-05-11T12:17:04.349433Z"
    }
   }
  },
  {
   "cell_type": "markdown",
   "source": [
    "## Try experimenting on your own!\n",
    "\n",
    "### Output JSON for news alert"
   ],
   "metadata": {
    "collapsed": false
   }
  },
  {
   "cell_type": "code",
   "execution_count": 33,
   "outputs": [
    {
     "name": "stdout",
     "output_type": "stream",
     "text": [
      "{\n",
      "  \"nasa\": 1,\n",
      "  \"local government\": 0,\n",
      "  \"engineering\": 0,\n",
      "  \"employee satisfaction\": 1,\n",
      "  \"federal government\": 1\n",
      "}\n"
     ]
    }
   ],
   "source": [
    "prompt = f\"\"\"\n",
    "Determine whether each item in the following list of\n",
    "topics is a topic in the text below, which\n",
    "is delimited with triple backticks.\n",
    "\n",
    "Give your answer as a JSON object with 0 or 1 for each topic.\n",
    "\n",
    "List of topics: {\", \".join(topic_list)}\n",
    "\n",
    "Text sample: '''{story}'''\n",
    "\"\"\"\n",
    "response = get_completion(prompt)\n",
    "print(response)"
   ],
   "metadata": {
    "collapsed": false,
    "ExecuteTime": {
     "end_time": "2023-05-11T12:18:06.977537Z",
     "start_time": "2023-05-11T12:18:03.027290Z"
    }
   }
  },
  {
   "cell_type": "code",
   "execution_count": 34,
   "outputs": [
    {
     "name": "stdout",
     "output_type": "stream",
     "text": [
      "ALERT: New NASA story!\n"
     ]
    }
   ],
   "source": [
    "import json\n",
    "topic_dict = json.loads(response)\n",
    "if topic_dict['nasa'] == 1:\n",
    "    print(\"ALERT: New NASA story!\")"
   ],
   "metadata": {
    "collapsed": false,
    "ExecuteTime": {
     "end_time": "2023-05-11T12:18:39.312342Z",
     "start_time": "2023-05-11T12:18:39.281776Z"
    }
   }
  }
 ],
 "metadata": {
  "kernelspec": {
   "display_name": "Python 3",
   "language": "python",
   "name": "python3"
  },
  "language_info": {
   "codemirror_mode": {
    "name": "ipython",
    "version": 2
   },
   "file_extension": ".py",
   "mimetype": "text/x-python",
   "name": "python",
   "nbconvert_exporter": "python",
   "pygments_lexer": "ipython2",
   "version": "2.7.6"
  }
 },
 "nbformat": 4,
 "nbformat_minor": 0
}
