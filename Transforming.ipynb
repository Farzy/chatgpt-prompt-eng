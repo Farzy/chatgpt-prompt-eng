{
 "cells": [
  {
   "cell_type": "markdown",
   "source": [
    "# Transforming\n",
    "\n",
    "In this notebook, we will explore how to use Large Language Models for text transformation tasks such as language translation, spelling and grammar checking, tone adjustment, and format conversion.\n",
    "\n",
    "## Setup"
   ],
   "metadata": {
    "collapsed": false
   }
  },
  {
   "cell_type": "code",
   "execution_count": 1,
   "outputs": [],
   "source": [
    "import openai\n",
    "import os\n",
    "\n",
    "from dotenv import load_dotenv, find_dotenv\n",
    "_ = load_dotenv(find_dotenv()) # read local .env file\n",
    "\n",
    "openai.api_key  = os.getenv('OPENAI_API_KEY')"
   ],
   "metadata": {
    "collapsed": false,
    "ExecuteTime": {
     "end_time": "2023-05-11T12:27:29.202405Z",
     "start_time": "2023-05-11T12:27:28.966905Z"
    }
   }
  },
  {
   "cell_type": "code",
   "execution_count": 2,
   "outputs": [],
   "source": [
    "def get_completion(prompt, model=\"gpt-3.5-turbo\", temperature=0):\n",
    "    messages = [{\"role\": \"user\", \"content\": prompt}]\n",
    "    response = openai.ChatCompletion.create(\n",
    "        model=model,\n",
    "        messages=messages,\n",
    "        temperature=temperature,\n",
    "    )\n",
    "    return response.choices[0].message[\"content\"]"
   ],
   "metadata": {
    "collapsed": false,
    "ExecuteTime": {
     "end_time": "2023-05-11T12:27:32.842100Z",
     "start_time": "2023-05-11T12:27:32.836239Z"
    }
   }
  },
  {
   "cell_type": "markdown",
   "source": [
    "## Translation\n",
    "\n",
    "ChatGPT is trained with sources in many languages. This gives the model the ability to do translation. Here are some examples of how to use this capability."
   ],
   "metadata": {
    "collapsed": false
   }
  },
  {
   "cell_type": "code",
   "execution_count": 3,
   "outputs": [
    {
     "name": "stdout",
     "output_type": "stream",
     "text": [
      "Hola, me gustaría ordenar una licuadora.\n"
     ]
    }
   ],
   "source": [
    "prompt = f\"\"\"\n",
    "Translate the following English text to Spanish:\n",
    "```Hi, I would like to order a blender```\n",
    "\"\"\"\n",
    "response = get_completion(prompt)\n",
    "print(response)"
   ],
   "metadata": {
    "collapsed": false,
    "ExecuteTime": {
     "end_time": "2023-05-11T12:29:14.857148Z",
     "start_time": "2023-05-11T12:29:13.327801Z"
    }
   }
  },
  {
   "cell_type": "code",
   "execution_count": 4,
   "outputs": [
    {
     "name": "stdout",
     "output_type": "stream",
     "text": [
      "This is French.\n"
     ]
    }
   ],
   "source": [
    "prompt = f\"\"\"\n",
    "Tell me which language this is:\n",
    "```Combien coûte le lampadaire?```\n",
    "\"\"\"\n",
    "response = get_completion(prompt)\n",
    "print(response)"
   ],
   "metadata": {
    "collapsed": false,
    "ExecuteTime": {
     "end_time": "2023-05-11T12:30:05.625426Z",
     "start_time": "2023-05-11T12:30:04.331583Z"
    }
   }
  },
  {
   "cell_type": "code",
   "execution_count": 5,
   "outputs": [
    {
     "name": "stdout",
     "output_type": "stream",
     "text": [
      "French: Je veux commander un ballon de basket\n",
      "Spanish: Quiero ordenar un balón de baloncesto\n",
      "English Pirate: Arrr, I be wantin' to order a basketball, matey!\n"
     ]
    }
   ],
   "source": [
    "prompt = f\"\"\"\n",
    "Translate the following  text to French and Spanish\n",
    "and English pirate:\n",
    "```I want to order a basketball```\n",
    "\"\"\"\n",
    "response = get_completion(prompt)\n",
    "print(response)"
   ],
   "metadata": {
    "collapsed": false,
    "ExecuteTime": {
     "end_time": "2023-05-11T12:30:31.351342Z",
     "start_time": "2023-05-11T12:30:27.178257Z"
    }
   }
  },
  {
   "cell_type": "code",
   "execution_count": 6,
   "outputs": [
    {
     "name": "stdout",
     "output_type": "stream",
     "text": [
      "Formal: ¿Le gustaría ordenar una almohada?\n",
      "Informal: ¿Te gustaría ordenar una almohada?\n"
     ]
    }
   ],
   "source": [
    "prompt = f\"\"\"\n",
    "Translate the following text to Spanish in both the\n",
    "formal and informal forms:\n",
    "'Would you like to order a pillow?'\n",
    "\"\"\"\n",
    "response = get_completion(prompt)\n",
    "print(response)"
   ],
   "metadata": {
    "collapsed": false,
    "ExecuteTime": {
     "end_time": "2023-05-11T12:31:08.925798Z",
     "start_time": "2023-05-11T12:31:05.971594Z"
    }
   }
  },
  {
   "cell_type": "markdown",
   "source": [
    "### Universal Translator\n",
    "Imagine you are in charge of IT at a large multinational e-commerce company. Users are messaging you with IT issues in all their native languages. Your staff is from all over the world and speaks only their native languages. You need a universal translator!"
   ],
   "metadata": {
    "collapsed": false
   }
  },
  {
   "cell_type": "code",
   "execution_count": 7,
   "outputs": [],
   "source": [
    "user_messages = [\n",
    "    \"La performance du système est plus lente que d'habitude.\",  # System performance is slower than normal\n",
    "    \"Mi monitor tiene píxeles que no se iluminan.\",              # My monitor has pixels that are not lighting\n",
    "    \"Il mio mouse non funziona\",                                 # My mouse is not working\n",
    "    \"Mój klawisz Ctrl jest zepsuty\",                             # My keyboard has a broken control key\n",
    "    \"我的屏幕在闪烁\"                                               # My screen is flashing\n",
    "]"
   ],
   "metadata": {
    "collapsed": false,
    "ExecuteTime": {
     "end_time": "2023-05-11T12:32:15.128532Z",
     "start_time": "2023-05-11T12:32:15.116351Z"
    }
   }
  },
  {
   "cell_type": "code",
   "execution_count": 8,
   "outputs": [
    {
     "name": "stdout",
     "output_type": "stream",
     "text": [
      "Original message (This is French.): La performance du système est plus lente que d'habitude.\n",
      "English: The system performance is slower than usual.\n",
      "Korean: 시스템 성능이 평소보다 느립니다. \n",
      "\n",
      "Original message (This is Spanish.): Mi monitor tiene píxeles que no se iluminan.\n",
      "English: My monitor has pixels that don't light up.\n",
      "Korean: 내 모니터에는 불이 켜지지 않는 픽셀이 있습니다. \n",
      "\n",
      "Original message (This is Italian.): Il mio mouse non funziona\n",
      "English: My mouse is not working.\n",
      "Korean: 내 마우스가 작동하지 않습니다. \n",
      "\n",
      "Original message (This is Polish.): Mój klawisz Ctrl jest zepsuty\n",
      "English: My Ctrl key is broken\n",
      "Korean: 제 Ctrl 키가 고장 났어요 \n",
      "\n",
      "Original message (This is Chinese (Simplified).): 我的屏幕在闪烁\n",
      "English: My screen is flickering.\n",
      "Korean: 내 화면이 깜빡입니다. \n",
      "\n"
     ]
    }
   ],
   "source": [
    "for issue in user_messages:\n",
    "    prompt = f\"Tell me what language this is: ```{issue}```\"\n",
    "    lang = get_completion(prompt)\n",
    "    print(f\"Original message ({lang}): {issue}\")\n",
    "\n",
    "    prompt = f\"\"\"\n",
    "    Translate the following  text to English\n",
    "    and Korean: ```{issue}```\n",
    "    \"\"\"\n",
    "    response = get_completion(prompt)\n",
    "    print(response, \"\\n\")"
   ],
   "metadata": {
    "collapsed": false,
    "ExecuteTime": {
     "end_time": "2023-05-11T12:32:45.086105Z",
     "start_time": "2023-05-11T12:32:26.248109Z"
    }
   }
  },
  {
   "cell_type": "markdown",
   "source": [
    "## Try it yourself!\n",
    "Try some translations on your own!"
   ],
   "metadata": {
    "collapsed": false
   }
  },
  {
   "cell_type": "code",
   "execution_count": 13,
   "outputs": [
    {
     "name": "stdout",
     "output_type": "stream",
     "text": [
      "Original message (FR): La performance du système est plus lente que d'habitude.\n",
      "English: The system performance is slower than usual.\n",
      "Korean: 시스템 성능이 평소보다 느립니다. \n",
      "\n",
      "Original message (ES): Mi monitor tiene píxeles que no se iluminan.\n",
      "English: My monitor has pixels that don't light up.\n",
      "Korean: 제 모니터에는 불이 켜지지 않는 픽셀이 있습니다. \n",
      "\n",
      "Original message (IT): Il mio mouse non funziona\n",
      "English: My mouse is not working.\n",
      "Korean: 내 마우스가 작동하지 않습니다. \n",
      "\n",
      "Original message (The language is Polish and the ISO 639-1 code is \"PL\".): Mój klawisz Ctrl jest zepsuty\n",
      "English: My Ctrl key is broken\n",
      "Korean: 제 Ctrl 키가 고장 났어요 \n",
      "\n",
      "Original message (ZH): 我的屏幕在闪烁\n",
      "English: My screen is flickering.\n",
      "Korean: 내 화면이 깜빡입니다. \n",
      "\n"
     ]
    }
   ],
   "source": [
    "for issue in user_messages:\n",
    "    prompt = f\"Determine what language this is and only show the corresponding ISO 639-1 code in uppercase: ```{issue}```\"\n",
    "    lang = get_completion(prompt)\n",
    "    print(f\"Original message ({lang}): {issue}\")\n",
    "\n",
    "    prompt = f\"\"\"\n",
    "    Translate the following  text to English\n",
    "    and Korean: ```{issue}```\n",
    "    \"\"\"\n",
    "    response = get_completion(prompt)\n",
    "    print(response, \"\\n\")"
   ],
   "metadata": {
    "collapsed": false,
    "ExecuteTime": {
     "end_time": "2023-05-11T12:37:22.903393Z",
     "start_time": "2023-05-11T12:37:05.249983Z"
    }
   }
  },
  {
   "cell_type": "code",
   "execution_count": 25,
   "outputs": [
    {
     "name": "stdout",
     "output_type": "stream",
     "text": [
      "{\n",
      "    \"translation\": \"I feel like this is going to end badly! Let's get out of here.\",\n",
      "    \"language\": \"French\",\n",
      "    \"code\": \"fr\"\n",
      "}\n",
      "{\n",
      "    \"translation\": \"My mouse is not working.\",\n",
      "    \"language\": \"Italian\",\n",
      "    \"code\": \"it\"\n",
      "}\n"
     ]
    }
   ],
   "source": [
    "messages = [\n",
    "    \"Je sens que tout ça va mal finir ! On se casse.\",\n",
    "    \"Il mio mouse non funziona.\"\n",
    "]\n",
    "for message in messages:\n",
    "    prompt = f\"\"\"\n",
    "    Traduis le texte entre trois guillemets en anglais, trouve le nom de la langue et son code ISO 639-1.\n",
    "\n",
    "    Formule la réponse sous la forme d'un objet JSON avec les clés \"translation\", \"language\", \"code\".\n",
    "\n",
    "    ```{message}```\n",
    "    \"\"\"\n",
    "\n",
    "    response = get_completion(prompt)\n",
    "    print(response)"
   ],
   "metadata": {
    "collapsed": false,
    "ExecuteTime": {
     "end_time": "2023-05-11T12:49:42.661453Z",
     "start_time": "2023-05-11T12:49:35.583967Z"
    }
   }
  },
  {
   "cell_type": "markdown",
   "source": [
    "## Tone Transformation\n",
    "Writing can vary based on the intended audience. ChatGPT can produce different tones."
   ],
   "metadata": {
    "collapsed": false
   }
  },
  {
   "cell_type": "code",
   "execution_count": 26,
   "outputs": [
    {
     "name": "stdout",
     "output_type": "stream",
     "text": [
      "Dear Sir/Madam,\n",
      "\n",
      "I am writing to bring to your attention a standing lamp that I believe may be of interest to you. Please find attached the specifications for your review.\n",
      "\n",
      "Thank you for your time and consideration.\n",
      "\n",
      "Sincerely,\n",
      "\n",
      "Joe\n"
     ]
    }
   ],
   "source": [
    "prompt = f\"\"\"\n",
    "Translate the following from slang to a business letter:\n",
    "'Dude, This is Joe, check out this spec on this standing lamp.'\n",
    "\"\"\"\n",
    "response = get_completion(prompt)\n",
    "print(response)"
   ],
   "metadata": {
    "collapsed": false,
    "ExecuteTime": {
     "end_time": "2023-05-11T13:09:33.987726Z",
     "start_time": "2023-05-11T13:09:29.793782Z"
    }
   }
  },
  {
   "cell_type": "markdown",
   "source": [
    "## Format Conversion\n",
    "ChatGPT can translate between formats. The prompt should describe the input and output formats."
   ],
   "metadata": {
    "collapsed": false
   }
  },
  {
   "cell_type": "code",
   "execution_count": 27,
   "outputs": [
    {
     "name": "stdout",
     "output_type": "stream",
     "text": [
      "<table>\n",
      "  <caption>Restaurant Employees</caption>\n",
      "  <thead>\n",
      "    <tr>\n",
      "      <th>Name</th>\n",
      "      <th>Email</th>\n",
      "    </tr>\n",
      "  </thead>\n",
      "  <tbody>\n",
      "    <tr>\n",
      "      <td>Shyam</td>\n",
      "      <td>shyamjaiswal@gmail.com</td>\n",
      "    </tr>\n",
      "    <tr>\n",
      "      <td>Bob</td>\n",
      "      <td>bob32@gmail.com</td>\n",
      "    </tr>\n",
      "    <tr>\n",
      "      <td>Jai</td>\n",
      "      <td>jai87@gmail.com</td>\n",
      "    </tr>\n",
      "  </tbody>\n",
      "</table>\n"
     ]
    }
   ],
   "source": [
    "data_json = { \"restaurant employees\" :[\n",
    "    {\"name\":\"Shyam\", \"email\":\"shyamjaiswal@gmail.com\"},\n",
    "    {\"name\":\"Bob\", \"email\":\"bob32@gmail.com\"},\n",
    "    {\"name\":\"Jai\", \"email\":\"jai87@gmail.com\"}\n",
    "]}\n",
    "\n",
    "prompt = f\"\"\"\n",
    "Translate the following python dictionary from JSON to an HTML\n",
    "table with column headers and title: {data_json}\n",
    "\"\"\"\n",
    "response = get_completion(prompt)\n",
    "print(response)"
   ],
   "metadata": {
    "collapsed": false,
    "ExecuteTime": {
     "end_time": "2023-05-11T13:10:36.754701Z",
     "start_time": "2023-05-11T13:10:25.099179Z"
    }
   }
  },
  {
   "cell_type": "code",
   "execution_count": 28,
   "outputs": [
    {
     "data": {
      "text/plain": "<IPython.core.display.HTML object>",
      "text/html": "<table>\n  <caption>Restaurant Employees</caption>\n  <thead>\n    <tr>\n      <th>Name</th>\n      <th>Email</th>\n    </tr>\n  </thead>\n  <tbody>\n    <tr>\n      <td>Shyam</td>\n      <td>shyamjaiswal@gmail.com</td>\n    </tr>\n    <tr>\n      <td>Bob</td>\n      <td>bob32@gmail.com</td>\n    </tr>\n    <tr>\n      <td>Jai</td>\n      <td>jai87@gmail.com</td>\n    </tr>\n  </tbody>\n</table>"
     },
     "metadata": {},
     "output_type": "display_data"
    }
   ],
   "source": [
    "from IPython.display import display, Markdown, HTML\n",
    "display(HTML(response))"
   ],
   "metadata": {
    "collapsed": false,
    "ExecuteTime": {
     "end_time": "2023-05-11T13:10:49.582972Z",
     "start_time": "2023-05-11T13:10:49.551255Z"
    }
   }
  },
  {
   "cell_type": "markdown",
   "source": [
    "## Spellcheck/Grammar check.\n",
    "\n",
    "Here are some examples of common grammar and spelling problems and the LLM's response.\n",
    "\n",
    "To signal to the LLM that you want it to proofread your text, you instruct the model to 'proofread' or 'proofread and correct'."
   ],
   "metadata": {
    "collapsed": false
   }
  },
  {
   "cell_type": "code",
   "execution_count": 37,
   "outputs": [
    {
     "name": "stdout",
     "output_type": "stream",
     "text": [
      "The girl with the black and white puppies has a ball.\n",
      "No errors found.\n",
      "\"It's going to be a long day. Does the car need its oil changed?\"\n",
      "There goes my freedom. They're going to bring their suitcases.\n",
      "You're going to need your notebook.\n",
      "\"That medicine affects my ability to sleep. Have you heard of the butterfly effect?\"\n",
      "This phrase is to check chatGPT for spelling ability.\n"
     ]
    }
   ],
   "source": [
    "text = [\n",
    "    \"The girl with the black and white puppies have a ball.\",  # The girl has a ball.\n",
    "    \"Yolanda has her notebook.\", # ok\n",
    "    \"Its going to be a long day. Does the car need it’s oil changed?\",  # Homonyms\n",
    "    \"Their goes my freedom. There going to bring they’re suitcases.\",  # Homonyms\n",
    "    \"Your going to need you’re notebook.\",  # Homonyms\n",
    "    \"That medicine effects my ability to sleep. Have you heard of the butterfly affect?\", # Homonyms\n",
    "    \"This phrase is to cherck chatGPT for speling abilitty\"  # spelling\n",
    "]\n",
    "for t in text:\n",
    "    prompt = f\"\"\"Proofread and correct the following text\n",
    "    and only display the corrected version. If you don't find\n",
    "    any errors, just say \"No errors found\". Don't use\n",
    "    quotes around the text and don't print the original text:\n",
    "    ```{t}```\"\"\"\n",
    "    response = get_completion(prompt)\n",
    "    print(response)"
   ],
   "metadata": {
    "collapsed": false,
    "ExecuteTime": {
     "end_time": "2023-05-11T13:19:35.551049Z",
     "start_time": "2023-05-11T13:19:24.675368Z"
    }
   }
  },
  {
   "cell_type": "code",
   "execution_count": 0,
   "outputs": [],
   "source": [
    "text = f\"\"\"\n",
    "Got this for my daughter for her birthday cuz she keeps taking\n",
    "mine from my room.  Yes, adults also like pandas too.  She takes\n",
    "it everywhere with her, and it's super soft and cute.  One of the\n",
    "ears is a bit lower than the other, and I don't think that was\n",
    "designed to be asymmetrical. It's a bit small for what I paid for it\n",
    "though. I think there might be other options that are bigger for\n",
    "the same price.  It arrived a day earlier than expected, so I got\n",
    "to play with it myself before I gave it to my daughter.\n",
    "\"\"\""
   ],
   "metadata": {
    "collapsed": false
   }
  },
  {
   "cell_type": "code",
   "execution_count": 38,
   "outputs": [
    {
     "name": "stdout",
     "output_type": "stream",
     "text": [
      "I got this for my daughter's birthday because she keeps taking mine from my room. Yes, adults also like pandas too. She takes it everywhere with her, and it's super soft and cute. However, one of the ears is a bit lower than the other, and I don't think that was designed to be asymmetrical. Additionally, it's a bit small for what I paid for it. I think there might be other options that are bigger for the same price. On the positive side, it arrived a day earlier than expected, so I got to play with it myself before I gave it to my daughter.\n"
     ]
    }
   ],
   "source": [
    "prompt = f\"proofread and correct this review: ```{text}```\"\n",
    "response = get_completion(prompt)\n",
    "print(response)"
   ],
   "metadata": {
    "collapsed": false,
    "ExecuteTime": {
     "end_time": "2023-05-11T13:20:10.295425Z",
     "start_time": "2023-05-11T13:20:00.829488Z"
    }
   }
  },
  {
   "cell_type": "code",
   "execution_count": 39,
   "outputs": [
    {
     "data": {
      "text/plain": "<IPython.core.display.Markdown object>",
      "text/markdown": "<span style=\"color:red;font-weight:700;text-decoration:line-through;\">Got </span><span style=\"color:red;font-weight:700;\">I got </span>this for my <span style=\"color:red;font-weight:700;text-decoration:line-through;\">daughter for her </span><span style=\"color:red;font-weight:700;\">daughter's </span>birthday <span style=\"color:red;font-weight:700;text-decoration:line-through;\">cuz </span><span style=\"color:red;font-weight:700;\">because </span>she keeps taking <span style=\"color:red;font-weight:700;text-decoration:line-through;\">¶ </span>mine from my <span style=\"color:red;font-weight:700;text-decoration:line-through;\">room.  </span><span style=\"color:red;font-weight:700;\">room. </span>Yes, adults also like pandas <span style=\"color:red;font-weight:700;text-decoration:line-through;\">too.  </span><span style=\"color:red;font-weight:700;\">too. </span>She takes <span style=\"color:red;font-weight:700;text-decoration:line-through;\">¶ </span>it everywhere with her, and it's super soft and <span style=\"color:red;font-weight:700;text-decoration:line-through;\">cute.  One </span><span style=\"color:red;font-weight:700;\">cute. However, one </span>of the <span style=\"color:red;font-weight:700;text-decoration:line-through;\">¶ </span>ears is a bit lower than the other, and I don't think that was <span style=\"color:red;font-weight:700;text-decoration:line-through;\">¶ </span>designed to be asymmetrical. <span style=\"color:red;font-weight:700;text-decoration:line-through;\">It's </span><span style=\"color:red;font-weight:700;\">Additionally, it's </span>a bit small for what I paid for <span style=\"color:red;font-weight:700;text-decoration:line-through;\">it ¶ though. </span><span style=\"color:red;font-weight:700;\">it. </span>I think there might be other options that are bigger for <span style=\"color:red;font-weight:700;text-decoration:line-through;\">¶ </span>the same <span style=\"color:red;font-weight:700;text-decoration:line-through;\">price.  It </span><span style=\"color:red;font-weight:700;\">price. On the positive side, it </span>arrived a day earlier than expected, so I got <span style=\"color:red;font-weight:700;text-decoration:line-through;\">¶ </span>to play with it myself before I gave it to my daughter."
     },
     "metadata": {},
     "output_type": "display_data"
    }
   ],
   "source": [
    "from redlines import Redlines\n",
    "\n",
    "diff = Redlines(text,response)\n",
    "display(Markdown(diff.output_markdown))"
   ],
   "metadata": {
    "collapsed": false,
    "ExecuteTime": {
     "end_time": "2023-05-11T13:20:49.970934Z",
     "start_time": "2023-05-11T13:20:49.941917Z"
    }
   }
  },
  {
   "cell_type": "code",
   "execution_count": 40,
   "outputs": [
    {
     "data": {
      "text/plain": "<IPython.core.display.Markdown object>",
      "text/markdown": "Title: A Soft and Cute Panda Plushie for All Ages\n\nAs an adult, I can attest that pandas are not just for kids. That's why I got this adorable panda plushie for my daughter's birthday, but let's be real, I wanted one for myself too. The softness of the material is unmatched, and the cuteness factor is off the charts. \n\nMy daughter takes it everywhere with her, and I can see why. The plushie is the perfect size to cuddle with and carry around. However, I did notice that one of the ears is a bit lower than the other, which I don't think was intentional. Despite this minor flaw, the overall quality of the product is impressive.\n\nThe only downside is that the price seems a bit steep for the size of the plushie. I believe there are other options available that are bigger for the same price. Nonetheless, the product arrived a day earlier than expected, which gave me the opportunity to play with it myself before giving it to my daughter.\n\nIn conclusion, if you're looking for a soft and cute panda plushie that can be enjoyed by all ages, this is a great option. Just be aware that there may be other options available that offer more value for the price."
     },
     "metadata": {},
     "output_type": "display_data"
    }
   ],
   "source": [
    "prompt = f\"\"\"\n",
    "proofread and correct this review. Make it more compelling.\n",
    "Ensure it follows APA style guide and targets an advanced reader.\n",
    "Output in markdown format.\n",
    "Text: ```{text}```\n",
    "\"\"\"\n",
    "response = get_completion(prompt)\n",
    "display(Markdown(response))"
   ],
   "metadata": {
    "collapsed": false,
    "ExecuteTime": {
     "end_time": "2023-05-11T13:24:54.109360Z",
     "start_time": "2023-05-11T13:24:34.743837Z"
    }
   }
  },
  {
   "cell_type": "markdown",
   "source": [
    "## Try it yourself!\n",
    "Try changing the instructions to form your own review."
   ],
   "metadata": {
    "collapsed": false
   }
  },
  {
   "cell_type": "code",
   "execution_count": 47,
   "outputs": [
    {
     "name": "stdout",
     "output_type": "stream",
     "text": [
      "Lors de l'achat d'un cadeau pour un être cher, il est important de prendre en compte ses préférences et ses besoins. C'est pourquoi j'ai choisi d'offrir à ma fille un panda en peluche pour son anniversaire, car elle avait exprimé son désir d'avoir un animal en peluche doux et mignon. Bien que ce soit un jouet généralement associé aux enfants, je suis convaincu que les adultes peuvent également apprécier la compagnie d'un panda en peluche.\n",
      "\n",
      "Ma fille a été ravie de recevoir ce cadeau et l'emporte partout avec elle. La peluche est en effet très douce et agréable au toucher, ce qui en fait un compagnon de jeu idéal pour les enfants. Cependant, j'ai remarqué que l'une des oreilles était légèrement plus basse que l'autre, ce qui peut sembler être un défaut de fabrication. Bien que cela n'affecte pas la qualité de la peluche, cela peut être un point à prendre en compte pour les acheteurs potentiels.\n",
      "\n",
      "En ce qui concerne le prix, je pense que la peluche est un peu petite pour le montant que j'ai payé. Bien qu'elle soit de bonne qualité, il existe d'autres options plus grandes pour le même prix sur le marché. Cependant, je suis satisfait de la livraison rapide, car la peluche est arrivée un jour plus tôt que prévu, ce qui m'a permis de la tester avant de l'offrir à ma fille.\n",
      "\n",
      "En conclusion, la peluche panda est un cadeau mignon et doux pour les enfants et les adultes. Bien qu'il y ait des options plus grandes pour le même prix, la qualité de la peluche est satisfaisante. Cependant, les acheteurs potentiels doivent être conscients de la possibilité d'un défaut de fabrication mineur, comme une oreille asymétrique. Dans l'ensemble, je recommande cette peluche pour ceux qui cherchent un compagnon de jeu doux et mignon.\n"
     ]
    }
   ],
   "source": [
    "review = \"\"\"\n",
    "Je l'ai offert à ma fille pour son anniversaire parce qu'elle n'arrête pas de prendre le mien dans ma chambre.\n",
    "Oui, les adultes aiment aussi les pandas.\n",
    "Elle l'emporte partout avec elle et il est super doux et mignon.\n",
    "L'une des oreilles est un peu plus basse que l'autre, et je ne pense pas que cela ait été conçu pour être asymétrique.\n",
    "Il est un peu petit pour le prix que j'ai payé.\n",
    "Je pense qu'il y a d'autres options plus grandes pour le même prix.\n",
    "Il est arrivé un jour plus tôt que prévu, j'ai donc pu jouer avec avant de l'offrir à ma fille.\n",
    "\"\"\"\n",
    "\n",
    "prompt = f\"\"\"\n",
    "Réécris l'avis consommateur suivant, entre apostrophes triples,\n",
    "dans un style plus formel et plus développé,\n",
    "avec des paragraphes et une conclusion.\n",
    "\n",
    "Avis : '''{review}'''\n",
    "\"\"\"\n",
    "\n",
    "response = get_completion(prompt)\n",
    "print(response)"
   ],
   "metadata": {
    "collapsed": false,
    "ExecuteTime": {
     "end_time": "2023-05-11T13:33:14.546762Z",
     "start_time": "2023-05-11T13:32:38.357978Z"
    }
   }
  },
  {
   "cell_type": "markdown",
   "source": [
    "Thanks to the following sites:\n",
    "\n",
    "https://writingprompts.com/bad-grammar-examples/\n"
   ],
   "metadata": {
    "collapsed": false
   }
  }
 ],
 "metadata": {
  "kernelspec": {
   "display_name": "Python 3",
   "language": "python",
   "name": "python3"
  },
  "language_info": {
   "codemirror_mode": {
    "name": "ipython",
    "version": 2
   },
   "file_extension": ".py",
   "mimetype": "text/x-python",
   "name": "python",
   "nbconvert_exporter": "python",
   "pygments_lexer": "ipython2",
   "version": "2.7.6"
  }
 },
 "nbformat": 4,
 "nbformat_minor": 0
}
