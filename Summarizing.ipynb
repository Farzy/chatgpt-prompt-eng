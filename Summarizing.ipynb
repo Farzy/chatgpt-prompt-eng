{
 "cells": [
  {
   "cell_type": "markdown",
   "source": [
    "# Summarizing\n",
    "In this lesson, you will summarize text with a focus on specific topics.\n",
    "\n",
    "## Setup"
   ],
   "metadata": {
    "collapsed": false
   }
  },
  {
   "cell_type": "code",
   "execution_count": 1,
   "outputs": [],
   "source": [
    "import openai\n",
    "import os\n",
    "\n",
    "from dotenv import load_dotenv, find_dotenv\n",
    "_ = load_dotenv(find_dotenv()) # read local .env file\n",
    "\n",
    "openai.api_key  = os.getenv('OPENAI_API_KEY')"
   ],
   "metadata": {
    "collapsed": false,
    "ExecuteTime": {
     "end_time": "2023-05-10T14:14:30.094836Z",
     "start_time": "2023-05-10T14:14:29.865308Z"
    }
   }
  },
  {
   "cell_type": "code",
   "execution_count": 2,
   "outputs": [],
   "source": [
    "def get_completion(prompt, model=\"gpt-3.5-turbo\"): # Andrew mentioned that the prompt/ completion paradigm is preferable for this class\n",
    "    messages = [{\"role\": \"user\", \"content\": prompt}]\n",
    "    response = openai.ChatCompletion.create(\n",
    "        model=model,\n",
    "        messages=messages,\n",
    "        temperature=0, # this is the degree of randomness of the model's output\n",
    "    )\n",
    "    return response.choices[0].message[\"content\"]\n"
   ],
   "metadata": {
    "collapsed": false,
    "ExecuteTime": {
     "end_time": "2023-05-10T14:14:43.227690Z",
     "start_time": "2023-05-10T14:14:43.222785Z"
    }
   }
  },
  {
   "cell_type": "markdown",
   "source": [
    "## Text to summarize"
   ],
   "metadata": {
    "collapsed": false
   }
  },
  {
   "cell_type": "code",
   "execution_count": 3,
   "outputs": [],
   "source": [
    "prod_review = \"\"\"\n",
    "Got this panda plush toy for my daughter's birthday,\n",
    "who loves it and takes it everywhere. It's soft and\n",
    "super cute, and its face has a friendly look. It's\n",
    "a bit small for what I paid though. I think there\n",
    "might be other options that are bigger for the\n",
    "same price. It arrived a day earlier than expected,\n",
    "so I got to play with it myself before I gave it\n",
    "to her.\n",
    "\"\"\""
   ],
   "metadata": {
    "collapsed": false,
    "ExecuteTime": {
     "end_time": "2023-05-10T15:57:55.624359Z",
     "start_time": "2023-05-10T15:57:55.619135Z"
    }
   }
  },
  {
   "cell_type": "markdown",
   "source": [
    "## Summarize with a word/sentence/character limit"
   ],
   "metadata": {
    "collapsed": false
   }
  },
  {
   "cell_type": "code",
   "execution_count": 4,
   "outputs": [
    {
     "name": "stdout",
     "output_type": "stream",
     "text": [
      "Soft and cute panda plush toy loved by daughter, but a bit small for the price. Arrived early.\n"
     ]
    }
   ],
   "source": [
    "prompt = f\"\"\"\n",
    "Your task is to generate a short summary of a product\n",
    "review from an ecommerce site.\n",
    "\n",
    "Summarize the review below, delimited by triple\n",
    "backticks, in at most 30 words.\n",
    "\n",
    "Review: ```{prod_review}```\n",
    "\"\"\"\n",
    "\n",
    "response = get_completion(prompt)\n",
    "print(response)"
   ],
   "metadata": {
    "collapsed": false,
    "ExecuteTime": {
     "end_time": "2023-05-10T15:58:03.913762Z",
     "start_time": "2023-05-10T15:58:01.331838Z"
    }
   }
  },
  {
   "cell_type": "markdown",
   "source": [
    "## Summarize with a focus on shipping and delivery"
   ],
   "metadata": {
    "collapsed": false
   }
  },
  {
   "cell_type": "code",
   "execution_count": 5,
   "outputs": [
    {
     "name": "stdout",
     "output_type": "stream",
     "text": [
      "The panda plush toy arrived a day earlier than expected, but the customer felt it was a bit small for the price paid.\n"
     ]
    }
   ],
   "source": [
    "prompt = f\"\"\"\n",
    "Your task is to generate a short summary of a product\n",
    "review from an ecommerce site to give feedback to the\n",
    "Shipping department.\n",
    "\n",
    "Summarize the review below, delimited by triple\n",
    "backticks, in at most 30 words, and focusing on any aspects\n",
    "that mention shipping and delivery of the product.\n",
    "\n",
    "Review: ```{prod_review}```\n",
    "\"\"\"\n",
    "\n",
    "response = get_completion(prompt)\n",
    "print(response)"
   ],
   "metadata": {
    "collapsed": false,
    "ExecuteTime": {
     "end_time": "2023-05-10T15:59:22.584617Z",
     "start_time": "2023-05-10T15:59:20.194729Z"
    }
   }
  },
  {
   "cell_type": "markdown",
   "source": [
    "## Summarize with a focus on price and value"
   ],
   "metadata": {
    "collapsed": false
   }
  },
  {
   "cell_type": "code",
   "execution_count": 6,
   "outputs": [
    {
     "name": "stdout",
     "output_type": "stream",
     "text": [
      "This panda plush toy is soft, cute, and loved by the reviewer's daughter. However, it is considered a bit small for the price paid, and there may be other options that offer better value.\n"
     ]
    }
   ],
   "source": [
    "prompt = f\"\"\"\n",
    "Your task is to generate a short summary of a product\n",
    "review from an ecommerce site to give feedback to the\n",
    "pricing department, responsible for determining the\n",
    "price of the product.\n",
    "\n",
    "Summarize the review below, delimited by triple\n",
    "backticks, in at most 30 words, and focusing on any aspects\n",
    "that are relevant to the price and perceived value.\n",
    "\n",
    "Review: ```{prod_review}```\n",
    "\"\"\"\n",
    "\n",
    "response = get_completion(prompt)\n",
    "print(response)"
   ],
   "metadata": {
    "collapsed": false,
    "ExecuteTime": {
     "end_time": "2023-05-10T15:59:49.826467Z",
     "start_time": "2023-05-10T15:59:46.109732Z"
    }
   }
  },
  {
   "cell_type": "markdown",
   "source": [
    "# Summarize for the customer experience department"
   ],
   "metadata": {
    "collapsed": false
   }
  },
  {
   "cell_type": "code",
   "execution_count": 8,
   "outputs": [
    {
     "name": "stdout",
     "output_type": "stream",
     "text": [
      "The customer loved the panda plush toy's softness and cuteness, but felt it was small for the price. They were pleased with the early delivery.\n"
     ]
    }
   ],
   "source": [
    "prompt = f\"\"\"\n",
    "Your task is to generate a short summary of a product\n",
    "review from an ecommerce site to give feedback to the\n",
    "customer experience department, responsible improving the customer experience.\n",
    "\n",
    "Summarize the review below, delimited by triple\n",
    "backticks, in at most 30 words, and focusing only on aspects\n",
    "that are relevant to the customer experience.\n",
    "\n",
    "Review: ```{prod_review}```\n",
    "\"\"\"\n",
    "\n",
    "response = get_completion(prompt)\n",
    "print(response)"
   ],
   "metadata": {
    "collapsed": false,
    "ExecuteTime": {
     "end_time": "2023-05-10T16:28:43.803773Z",
     "start_time": "2023-05-10T16:28:37.822334Z"
    }
   }
  },
  {
   "cell_type": "markdown",
   "source": [
    "#### Comment\n",
    "- Summaries include topics that are not related to the topic of focus.\n",
    "\n",
    "## Try \"extract\" instead of \"summarize\""
   ],
   "metadata": {
    "collapsed": false
   }
  },
  {
   "cell_type": "code",
   "execution_count": 9,
   "outputs": [
    {
     "name": "stdout",
     "output_type": "stream",
     "text": [
      "The product arrived a day earlier than expected.\n"
     ]
    }
   ],
   "source": [
    "prompt = f\"\"\"\n",
    "Your task is to extract relevant information from\n",
    "a product review from an ecommerce site to give\n",
    "feedback to the Shipping department.\n",
    "\n",
    "From the review below, delimited by triple quotes\n",
    "extract the information relevant to shipping and\n",
    "delivery. Limit to 30 words.\n",
    "\n",
    "Review: ```{prod_review}```\n",
    "\"\"\"\n",
    "\n",
    "response = get_completion(prompt)\n",
    "print(response)"
   ],
   "metadata": {
    "collapsed": false,
    "ExecuteTime": {
     "end_time": "2023-05-10T16:44:40.530167Z",
     "start_time": "2023-05-10T16:44:39.127108Z"
    }
   }
  },
  {
   "cell_type": "code",
   "execution_count": 10,
   "outputs": [
    {
     "name": "stdout",
     "output_type": "stream",
     "text": [
      "The customer thinks the panda plush toy is cute and arrived early, but is a bit small for the price paid. Suggest exploring other options for a better value.\n"
     ]
    }
   ],
   "source": [
    "prompt = f\"\"\"\n",
    "Your task is to extract relevant information from\n",
    "a product review from an ecommerce site to give\n",
    "feedback to the pricing department.\n",
    "\n",
    "From the review below, delimited by triple quotes\n",
    "extract the information relevant to pricing. Limit to 30 words.\n",
    "\n",
    "Review: ```{prod_review}```\n",
    "\"\"\"\n",
    "\n",
    "response = get_completion(prompt)\n",
    "print(response)"
   ],
   "metadata": {
    "collapsed": false,
    "ExecuteTime": {
     "end_time": "2023-05-10T16:45:29.165862Z",
     "start_time": "2023-05-10T16:45:26.397929Z"
    }
   }
  },
  {
   "cell_type": "code",
   "execution_count": 11,
   "outputs": [
    {
     "name": "stdout",
     "output_type": "stream",
     "text": [
      "The customer enjoyed the product's softness and cuteness, but felt it was small for the price. The early delivery was a positive experience.\n"
     ]
    }
   ],
   "source": [
    "prompt = f\"\"\"\n",
    "Your task is to extract relevant information from\n",
    "a product review from an ecommerce site to give\n",
    "feedback to the customer experience department.\n",
    "\n",
    "From the review below, delimited by triple quotes\n",
    "extract the information relevant to customer experience. Limit to 30 words.\n",
    "\n",
    "Review: ```{prod_review}```\n",
    "\"\"\"\n",
    "\n",
    "response = get_completion(prompt)\n",
    "print(response)"
   ],
   "metadata": {
    "collapsed": false,
    "ExecuteTime": {
     "end_time": "2023-05-10T16:46:22.035829Z",
     "start_time": "2023-05-10T16:46:18.879217Z"
    }
   }
  },
  {
   "cell_type": "markdown",
   "source": [
    "## Summarize multiple product reviews"
   ],
   "metadata": {
    "collapsed": false
   }
  },
  {
   "cell_type": "code",
   "execution_count": 13,
   "outputs": [],
   "source": [
    "review_1 = prod_review\n",
    "\n",
    "# review for a standing lamp\n",
    "review_2 = \"\"\"\n",
    "Needed a nice lamp for my bedroom, and this one\n",
    "had additional storage and not too high of a price\n",
    "point. Got it fast - arrived in 2 days. The string\n",
    "to the lamp broke during the transit and the company\n",
    "happily sent over a new one. Came within a few days\n",
    "as well. It was easy to put together. Then I had a\n",
    "missing part, so I contacted their support and they\n",
    "very quickly got me the missing piece! Seems to me\n",
    "to be a great company that cares about their customers\n",
    "and products.\n",
    "\"\"\"\n",
    "\n",
    "# review for an electric toothbrush\n",
    "review_3 = \"\"\"\n",
    "My dental hygienist recommended an electric toothbrush,\n",
    "which is why I got this. The battery life seems to be\n",
    "pretty impressive so far. After initial charging and\n",
    "leaving the charger plugged in for the first week to\n",
    "condition the battery, I've unplugged the charger and\n",
    "been using it for twice daily brushing for the last\n",
    "3 weeks all on the same charge. But the toothbrush head\n",
    "is too small. I’ve seen baby toothbrushes bigger than\n",
    "this one. I wish the head was bigger with different\n",
    "length bristles to get between teeth better because\n",
    "this one doesn’t.  Overall if you can get this one\n",
    "around the $50 mark, it's a good deal. The manufacturer's\n",
    "replacements heads are pretty expensive, but you can\n",
    "get generic ones that're more reasonably priced. This\n",
    "toothbrush makes me feel like I've been to the dentist\n",
    "every day. My teeth feel sparkly clean!\n",
    "\"\"\"\n",
    "\n",
    "# review for a blender\n",
    "review_4 = \"\"\"\n",
    "So, they still had the 17 piece system on seasonal\n",
    "sale for around $49 in the month of November, about\n",
    "half off, but for some reason (call it price gouging)\n",
    "around the second week of December the prices all went\n",
    "up to about anywhere from between $70-$89 for the same\n",
    "system. And the 11 piece system went up around $10 or\n",
    "so in price also from the earlier sale price of $29.\n",
    "So it looks okay, but if you look at the base, the part\n",
    "where the blade locks into place doesn’t look as good\n",
    "as in previous editions from a few years ago, but I\n",
    "plan to be very gentle with it (example, I crush\n",
    "very hard items like beans, ice, rice, etc. in the\n",
    "blender first then pulverize them in the serving size\n",
    "I want in the blender then switch to the whipping\n",
    "blade for a finer flour, and use the cross cutting blade\n",
    "first when making smoothies, then use the flat blade\n",
    "if I need them finer/less pulpy). Special tip when making\n",
    "smoothies, finely cut and freeze the fruits and\n",
    "vegetables (if using spinach-lightly stew soften the\n",
    "spinach then freeze until ready for use-and if making\n",
    "sorbet, use a small to medium sized food processor)\n",
    "that you plan to use that way you can avoid adding so\n",
    "much ice if at all-when making your smoothie.\n",
    "After about a year, the motor was making a funny noise.\n",
    "I called customer service but the warranty expired\n",
    "already, so I had to buy another one. FYI: The overall\n",
    "quality has gone done in these types of products, so\n",
    "they are kind of counting on brand recognition and\n",
    "consumer loyalty to maintain sales. Got it in about\n",
    "two days.\n",
    "\"\"\"\n",
    "\n",
    "reviews = [review_1, review_2, review_3, review_4]"
   ],
   "metadata": {
    "collapsed": false,
    "ExecuteTime": {
     "end_time": "2023-05-10T16:50:53.920102Z",
     "start_time": "2023-05-10T16:50:53.909086Z"
    }
   }
  },
  {
   "cell_type": "code",
   "execution_count": 20,
   "outputs": [
    {
     "name": "stdout",
     "output_type": "stream",
     "text": [
      "1 (length 18): Soft and cute panda plush toy loved by daughter, but a bit small for the price. Arrived early.\n",
      "\n",
      "2 (length 13): Great lamp with storage, fast shipping, and excellent customer service. Easy to assemble.\n",
      "\n",
      "3 (length 14): Good battery life, small toothbrush head, good deal at $50, makes teeth feel clean.\n",
      "\n",
      "4 (length 24): Mixed review: Priced well during seasonal sale, but increased later. Base quality not as good as previous models. Motor had issues after a year.\n",
      "\n"
     ]
    }
   ],
   "source": [
    "for i, review in enumerate(reviews, start=1):\n",
    "    prompt = f\"\"\"\n",
    "    Your task is to generate a short summary of a product\n",
    "    review from an ecommerce site.\n",
    "\n",
    "    Summarize the review below, delimited by triple\n",
    "    backticks in at most 20 words.\n",
    "\n",
    "    Review: ```{review}```\n",
    "    \"\"\"\n",
    "\n",
    "    response = get_completion(prompt)\n",
    "    print(f\"{i} (length {len(response.split(' '))}): {response}\\n\")"
   ],
   "metadata": {
    "collapsed": false,
    "ExecuteTime": {
     "end_time": "2023-05-10T16:57:46.749791Z",
     "start_time": "2023-05-10T16:57:37.176994Z"
    }
   }
  },
  {
   "cell_type": "markdown",
   "source": [
    "## Try experimenting on your own!"
   ],
   "metadata": {
    "collapsed": false
   }
  },
  {
   "cell_type": "markdown",
   "source": [
    "### Analyse if the review is positive or not"
   ],
   "metadata": {
    "collapsed": false
   }
  },
  {
   "cell_type": "code",
   "execution_count": 21,
   "outputs": [
    {
     "name": "stdout",
     "output_type": "stream",
     "text": [
      "1 (length 17): Positive: Soft and cute panda plush toy loved by daughter, arrived early. Negative: Small for the price.\n",
      "\n",
      "2 (length 10): Positive: Affordable lamp with storage, fast shipping, excellent customer service.\n",
      "\n",
      "3 (length 16): Mixed: Impressive battery life, but toothbrush head is too small. Good deal if bought around $50.\n",
      "\n",
      "4 (length 23): Mixed: The reviewer notes a price increase after a sale, but provides tips for using the product and mentions a decrease in quality.\n",
      "\n"
     ]
    }
   ],
   "source": [
    "for i, review in enumerate(reviews, start=1):\n",
    "    prompt = f\"\"\"\n",
    "    Your task is to generate a short summary of a product\n",
    "    review from an ecommerce site.\n",
    "\n",
    "    Summarize the review below, delimited by triple\n",
    "    backticks in at most 20 words. Prefix each review with the word \"Positive\", \"Negative\" or \"Mixed\"\n",
    "    in order to indicate if the review is positive, negative, or mixed.\n",
    "\n",
    "    Review: ```{review}```\n",
    "    \"\"\"\n",
    "\n",
    "    response = get_completion(prompt)\n",
    "    print(f\"{i} (length {len(response.split(' '))}): {response}\\n\")"
   ],
   "metadata": {
    "collapsed": false,
    "ExecuteTime": {
     "end_time": "2023-05-10T16:58:04.960276Z",
     "start_time": "2023-05-10T16:57:56.642467Z"
    }
   }
  },
  {
   "cell_type": "code",
   "execution_count": null,
   "outputs": [],
   "source": [],
   "metadata": {
    "collapsed": false
   }
  }
 ],
 "metadata": {
  "kernelspec": {
   "display_name": "Python 3",
   "language": "python",
   "name": "python3"
  },
  "language_info": {
   "codemirror_mode": {
    "name": "ipython",
    "version": 2
   },
   "file_extension": ".py",
   "mimetype": "text/x-python",
   "name": "python",
   "nbconvert_exporter": "python",
   "pygments_lexer": "ipython2",
   "version": "2.7.6"
  }
 },
 "nbformat": 4,
 "nbformat_minor": 0
}
