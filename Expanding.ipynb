{
 "cells": [
  {
   "cell_type": "markdown",
   "source": [
    "# Expanding\n",
    "In this lesson, you will generate customer service emails that are tailored to each customer's review.\n",
    "\n",
    "## Setup"
   ],
   "metadata": {
    "collapsed": false
   }
  },
  {
   "cell_type": "code",
   "execution_count": 1,
   "outputs": [],
   "source": [
    "import openai\n",
    "import os\n",
    "\n",
    "from dotenv import load_dotenv, find_dotenv\n",
    "_ = load_dotenv(find_dotenv()) # read local .env file\n",
    "\n",
    "openai.api_key  = os.getenv('OPENAI_API_KEY')"
   ],
   "metadata": {
    "collapsed": false,
    "ExecuteTime": {
     "end_time": "2023-05-11T14:24:29.086716Z",
     "start_time": "2023-05-11T14:24:28.847430Z"
    }
   }
  },
  {
   "cell_type": "code",
   "execution_count": 2,
   "outputs": [],
   "source": [
    "def get_completion(prompt, model=\"gpt-3.5-turbo\",temperature=0): # Andrew mentioned that the prompt/ completion paradigm is preferable for this class\n",
    "    messages = [{\"role\": \"user\", \"content\": prompt}]\n",
    "    response = openai.ChatCompletion.create(\n",
    "        model=model,\n",
    "        messages=messages,\n",
    "        temperature=temperature, # this is the degree of randomness of the model's output\n",
    "    )\n",
    "    return response.choices[0].message[\"content\"]"
   ],
   "metadata": {
    "collapsed": false,
    "ExecuteTime": {
     "end_time": "2023-05-11T14:26:18.492102Z",
     "start_time": "2023-05-11T14:26:18.481959Z"
    }
   }
  },
  {
   "cell_type": "markdown",
   "source": [
    "## Customize the automated reply to a customer email"
   ],
   "metadata": {
    "collapsed": false
   }
  },
  {
   "cell_type": "code",
   "execution_count": 3,
   "outputs": [],
   "source": [
    "# given the sentiment from the lesson on \"inferring\",\n",
    "# and the original customer message, customize the email\n",
    "sentiment = \"negative\"\n",
    "\n",
    "# review for a blender\n",
    "review = f\"\"\"\n",
    "So, they still had the 17 piece system on seasonal\n",
    "sale for around $49 in the month of November, about\n",
    "half off, but for some reason (call it price gouging)\n",
    "around the second week of December the prices all went\n",
    "up to about anywhere from between $70-$89 for the same\n",
    "system. And the 11 piece system went up around $10 or\n",
    "so in price also from the earlier sale price of $29.\n",
    "So it looks okay, but if you look at the base, the part\n",
    "where the blade locks into place doesn’t look as good\n",
    "as in previous editions from a few years ago, but I\n",
    "plan to be very gentle with it (example, I crush\n",
    "very hard items like beans, ice, rice, etc. in the\n",
    "blender first then pulverize them in the serving size\n",
    "I want in the blender then switch to the whipping\n",
    "blade for a finer flour, and use the cross cutting blade\n",
    "first when making smoothies, then use the flat blade\n",
    "if I need them finer/less pulpy). Special tip when making\n",
    "smoothies, finely cut and freeze the fruits and\n",
    "vegetables (if using spinach-lightly stew soften the\n",
    "spinach then freeze until ready for use-and if making\n",
    "sorbet, use a small to medium sized food processor)\n",
    "that you plan to use that way you can avoid adding so\n",
    "much ice if at all-when making your smoothie.\n",
    "After about a year, the motor was making a funny noise.\n",
    "I called customer service but the warranty expired\n",
    "already, so I had to buy another one. FYI: The overall\n",
    "quality has gone done in these types of products, so\n",
    "they are kind of counting on brand recognition and\n",
    "consumer loyalty to maintain sales. Got it in about\n",
    "two days.\n",
    "\"\"\""
   ],
   "metadata": {
    "collapsed": false,
    "ExecuteTime": {
     "end_time": "2023-05-11T14:45:54.236781Z",
     "start_time": "2023-05-11T14:45:54.227249Z"
    }
   }
  },
  {
   "cell_type": "code",
   "execution_count": 4,
   "outputs": [
    {
     "name": "stdout",
     "output_type": "stream",
     "text": [
      "Dear valued customer,\n",
      "\n",
      "Thank you for taking the time to leave a review about your recent purchase. We are sorry to hear that you experienced an increase in prices and that the quality of the product did not meet your expectations. We apologize for any inconvenience this may have caused.\n",
      "\n",
      "We would like to assure you that we take all feedback seriously and are constantly working to improve our products and services. If you have any further concerns, please do not hesitate to reach out to our customer service team who will be happy to assist you.\n",
      "\n",
      "Thank you again for your review and for choosing our brand. We hope to have the opportunity to serve you better in the future.\n",
      "\n",
      "Best regards,\n",
      "\n",
      "AI customer agent\n"
     ]
    }
   ],
   "source": [
    "prompt = f\"\"\"\n",
    "You are a customer service AI assistant.\n",
    "Your task is to send an email reply to a valued customer.\n",
    "Given the customer email delimited by ```,\n",
    "Generate a reply to thank the customer for their review.\n",
    "If the sentiment is positive or neutral, thank them for\n",
    "their review.\n",
    "If the sentiment is negative, apologize and suggest that\n",
    "they can reach out to customer service.\n",
    "Make sure to use specific details from the review.\n",
    "Write in a concise and professional tone.\n",
    "Sign the email as `AI customer agent`.\n",
    "Customer review: ```{review}```\n",
    "Review sentiment: {sentiment}\n",
    "\"\"\"\n",
    "response = get_completion(prompt)\n",
    "print(response)"
   ],
   "metadata": {
    "collapsed": false,
    "ExecuteTime": {
     "end_time": "2023-05-11T14:46:06.737898Z",
     "start_time": "2023-05-11T14:45:55.933432Z"
    }
   }
  },
  {
   "cell_type": "markdown",
   "source": [
    "## Remind the model to use details from the customer's email"
   ],
   "metadata": {
    "collapsed": false
   }
  },
  {
   "cell_type": "code",
   "execution_count": 5,
   "outputs": [
    {
     "name": "stdout",
     "output_type": "stream",
     "text": [
      "Dear valued customer,\n",
      "\n",
      "Thank you for taking the time to leave a review of your recent purchase. We deeply apologize for any inconvenience you may have experienced with the price increase and the quality of our product. We always strive to provide the best possible experience for our customers, and we are sorry that we fell short in this case.\n",
      "\n",
      "If you would like to discuss this matter further, please do not hesitate to contact our customer service team. We would be more than happy to assist you with any concerns or issues you may have.\n",
      "\n",
      "Once again, thank you for your feedback. We appreciate your honesty and hope to have the opportunity to serve you better in the future.\n",
      "\n",
      "Best regards,\n",
      "\n",
      "AI customer agent\n"
     ]
    }
   ],
   "source": [
    "prompt = f\"\"\"\n",
    "You are a customer service AI assistant.\n",
    "Your task is to send an email reply to a valued customer.\n",
    "Given the customer email delimited by ```,\n",
    "Generate a reply to thank the customer for their review.\n",
    "If the sentiment is positive or neutral, thank them for\n",
    "their review.\n",
    "If the sentiment is negative, apologize and suggest that\n",
    "they can reach out to customer service.\n",
    "Make sure to use specific details from the review.\n",
    "Write in a concise and professional tone.\n",
    "Sign the email as `AI customer agent`.\n",
    "Customer review: ```{review}```\n",
    "Review sentiment: {sentiment}\n",
    "\"\"\"\n",
    "response = get_completion(prompt, temperature=0.7)\n",
    "print(response)"
   ],
   "metadata": {
    "collapsed": false,
    "ExecuteTime": {
     "end_time": "2023-05-11T14:48:00.905077Z",
     "start_time": "2023-05-11T14:47:50.538927Z"
    }
   }
  },
  {
   "cell_type": "markdown",
   "source": [
    "## Try experimenting on your own!"
   ],
   "metadata": {
    "collapsed": false
   }
  },
  {
   "cell_type": "code",
   "execution_count": 17,
   "outputs": [
    {
     "name": "stdout",
     "output_type": "stream",
     "text": [
      "Moi, mon plat préféré c'est le coq au vin, un plat traditionnel de la cuisine française à base de poulet mariné dans du vin rouge et accompagné de champignons et de lardons.\n",
      "Moi, mon plat préféré c'est le ramen, un délicieux bol de nouilles servies dans un bouillon savoureux, agrémenté de viande, d'œufs et de légumes, typique de la cuisine japonaise.\n",
      "Moi, mon plat préféré c'est les spaghetti à la carbonara, j'adore le mélange de la sauce crémeuse avec le bacon croustillant et le parmesan fondant.\n",
      "Moi, mon plat préféré c'est le fish and chips, un plat typique de la cuisine anglaise que j'adore déguster avec une sauce tartare et une pinte de bière.\n",
      "Moi, mon plat préféré de la cuisine polonaise c'est les pierogi, ces délicieux petits chaussons farcis aux pommes de terre et au fromage blanc !\n"
     ]
    }
   ],
   "source": [
    "countries = [\n",
    "    \"française\",\n",
    "    \"japonaise\",\n",
    "    \"italienne\",\n",
    "    \"anglaise\",\n",
    "    \"polonaise\"\n",
    "]\n",
    "for country in countries:\n",
    "    prompt = f\"\"\"\n",
    "    Tu réponds à une personne qui aime la cuisine {country}. Écris une phrase détaillée commençant\n",
    "    par les mots suivants :\n",
    "\n",
    "    \"Moi, mon plat préféré c'est…\"\n",
    "    \"\"\"\n",
    "\n",
    "    response = get_completion(prompt, temperature=0.7)\n",
    "    print(response)"
   ],
   "metadata": {
    "collapsed": false,
    "ExecuteTime": {
     "end_time": "2023-05-11T15:19:11.847958Z",
     "start_time": "2023-05-11T15:18:52.442163Z"
    }
   }
  },
  {
   "cell_type": "code",
   "execution_count": 12,
   "outputs": [],
   "source": [],
   "metadata": {
    "collapsed": false,
    "ExecuteTime": {
     "end_time": "2023-05-11T14:54:01.603594Z",
     "start_time": "2023-05-11T14:54:01.590812Z"
    }
   }
  }
 ],
 "metadata": {
  "kernelspec": {
   "display_name": "Python 3",
   "language": "python",
   "name": "python3"
  },
  "language_info": {
   "codemirror_mode": {
    "name": "ipython",
    "version": 2
   },
   "file_extension": ".py",
   "mimetype": "text/x-python",
   "name": "python",
   "nbconvert_exporter": "python",
   "pygments_lexer": "ipython2",
   "version": "2.7.6"
  }
 },
 "nbformat": 4,
 "nbformat_minor": 0
}
